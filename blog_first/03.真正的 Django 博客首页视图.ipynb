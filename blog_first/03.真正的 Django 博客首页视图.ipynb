{
 "cells": [
  {
   "cell_type": "markdown",
   "metadata": {},
   "source": [
    "# 首页视图函数"
   ]
  },
  {
   "cell_type": "code",
   "execution_count": null,
   "metadata": {},
   "outputs": [],
   "source": [
    "# blog/views.py\n",
    "\n",
    "from django.shortcuts import render\n",
    "from .models import Post\n",
    "\n",
    "def index(request):\n",
    "    post_list = Post.objects.all().order_by('-created_time')\n",
    "    return render(request, 'blog/index.html', context={'post_list': post_list})"
   ]
  },
  {
   "cell_type": "markdown",
   "metadata": {},
   "source": [
    " \\- 号表示逆序，如果不加 - 则是正序。  \n",
    " 包含文章列表数据的 post_list 变量传给了模板"
   ]
  },
  {
   "cell_type": "markdown",
   "metadata": {},
   "source": [
    "# 处理静态文件"
   ]
  },
  {
   "cell_type": "markdown",
   "metadata": {},
   "source": [
    "把 CSS 和 JavaScript 文件放在 blog 应用的 static\\ 目录下。因此，先在 blog 应用下建立一个 static 文件夹。"
   ]
  },
  {
   "cell_type": "markdown",
   "metadata": {},
   "source": [
    "```html\n",
    "+ {% load staticfiles %}\n",
    "<!DOCTYPE html>\n",
    "<html>\n",
    "  <head>\n",
    "      <title>Black &amp; White</title>\n",
    "\n",
    "      <!-- meta -->\n",
    "      <meta charset=\"UTF-8\">\n",
    "      <meta name=\"viewport\" content=\"width=device-width, initial-scale=1\">\n",
    "\n",
    "      <!-- css -->\n",
    "      - <link rel=\"stylesheet\" href=\"css/bootstrap.min.css\">\n",
    "      <link rel=\"stylesheet\" href=\"http://code.ionicframework.com/ionicons/2.0.1/css/ionicons.min.css\">\n",
    "      - <link rel=\"stylesheet\" href=\"css/pace.css\">\n",
    "      - <link rel=\"stylesheet\" href=\"css/custom.css\">\n",
    "      + <link rel=\"stylesheet\" href=\"{% static 'blog/css/bootstrap.min.css' %}\">\n",
    "      + <link rel=\"stylesheet\" href=\"{% static 'blog/css/pace.css' %}\">\n",
    "      + <link rel=\"stylesheet\" href=\"{% static 'blog/css/custom.css' %}\">\n",
    "\n",
    "      <!-- js -->\n",
    "      - <script src=\"js/jquery-2.1.3.min.js\"></script>\n",
    "      - <script src=\"js/bootstrap.min.js\"></script>\n",
    "      - <script src=\"js/pace.min.js\"></script>\n",
    "      - <script src=\"js/modernizr.custom.js\"></script>\n",
    "      + <script src=\"{% static 'blog/js/jquery-2.1.3.min.js' %}\"></script>\n",
    "      + <script src=\"{% static 'blog/js/bootstrap.min.js' %}\"></script>\n",
    "      + <script src=\"{% static 'blog/js/pace.min.js' %}\"></script>\n",
    "      + <script src=\"{% static 'blog/js/modernizr.custom.js' %}\"></script>\n",
    "  </head>\n",
    "  <body>\n",
    "      <!-- 其它内容 -->\n",
    "      - <script src=\"js/script.js' %}\"></script>\n",
    "      + <script src=\"{% static 'blog/js/script.js' %}\"></script>\n",
    "  </body>\n",
    "</html>\n",
    "```"
   ]
  },
  {
   "cell_type": "markdown",
   "metadata": {},
   "source": [
    "用 {% %} 包裹起来的叫做模板标签"
   ]
  },
  {
   "cell_type": "markdown",
   "metadata": {},
   "source": [
    "# 修改模板"
   ]
  },
  {
   "cell_type": "markdown",
   "metadata": {},
   "source": [
    "使用 {% for %} 模板标签。将 index.html 中多余的 article 标签删掉，只留下一个 article 标签，然后写上下列代码："
   ]
  },
  {
   "cell_type": "markdown",
   "metadata": {},
   "source": [
    "```HTML\n",
    "templates/blog/index.html\n",
    "\n",
    "...\n",
    "{% for post in post_list %}\n",
    "  <article class=\"post post-{{ post.pk }}\">\n",
    "    ...\n",
    "  </article>\n",
    "{% empty %}\n",
    "  <div class=\"no-post\">暂时还没有发布的文章！</div>\n",
    "{% endfor %}\n",
    "...\n",
    "```"
   ]
  },
  {
   "cell_type": "markdown",
   "metadata": {},
   "source": [
    "post_list 是一个 QuerySet（类似于一个列表的数据结构），其中每一项都是之前定义在 blog\\models.py 中的 Post 类的实例，且每个实例分别对应着数据库中每篇文章的记录。因此我们循环遍历 post_list ，每一次遍历的结果都保存在 post 变量里。所以我们使用模板变量来显示 post 的属性值。例如这里的 {{ post.pk }}（pk 是 primary key 的缩写，即 post 对应于数据库中记录的 id 值，该属性尽管我们没有显示定义，但是 Django 会自动为我们添加）。"
   ]
  },
  {
   "cell_type": "code",
   "execution_count": null,
   "metadata": {},
   "outputs": [],
   "source": []
  }
 ],
 "metadata": {
  "kernelspec": {
   "display_name": "Python 3",
   "language": "python",
   "name": "python3"
  },
  "language_info": {
   "codemirror_mode": {
    "name": "ipython",
    "version": 3
   },
   "file_extension": ".py",
   "mimetype": "text/x-python",
   "name": "python",
   "nbconvert_exporter": "python",
   "pygments_lexer": "ipython3",
   "version": "3.6.4"
  }
 },
 "nbformat": 4,
 "nbformat_minor": 2
}
