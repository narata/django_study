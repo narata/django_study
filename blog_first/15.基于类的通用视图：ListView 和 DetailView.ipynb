{
 "cells": [
  {
   "cell_type": "markdown",
   "metadata": {},
   "source": [
    "在开发网站的过程中，有一些视图函数虽然处理的对象不同，但是其大致的代码逻辑是一样的。  \n",
    "Django 把这些相同的逻辑代码抽取了出来，写成了一系列的通用视图函数，即基于类的通用视图（Class Based View）。  \n",
    "\n",
    "把博客应用中的视图函数改成基于类的通用视图"
   ]
  },
  {
   "cell_type": "markdown",
   "metadata": {},
   "source": [
    "# ListView"
   ]
  },
  {
   "cell_type": "code",
   "execution_count": null,
   "metadata": {},
   "outputs": [],
   "source": [
    "# blog/views.py\n",
    "\n",
    "def index(request):\n",
    "    # ...\n",
    "\n",
    "def archives(request, year, month):\n",
    "    # ...\n",
    "\n",
    "def category(request, pk):\n",
    "    # ..."
   ]
  },
  {
   "cell_type": "markdown",
   "metadata": {},
   "source": [
    "## 将 index 视图函数改写为类视图"
   ]
  },
  {
   "cell_type": "markdown",
   "metadata": {},
   "source": [
    "针对这种从数据库中获取某个模型列表数据（比如这里的 Post 列表）的视图，Django 专门提供了一个 ListView 类视图。"
   ]
  },
  {
   "cell_type": "markdown",
   "metadata": {},
   "source": [
    "把 index 视图函数改造成类视图函数"
   ]
  },
  {
   "cell_type": "code",
   "execution_count": null,
   "metadata": {},
   "outputs": [],
   "source": [
    "# blog/views.py\n",
    "\n",
    "from django.views.generic import ListView\n",
    "\n",
    "class IndexView(ListView):\n",
    "    model = Post\n",
    "    template_name = 'blog/index.html'\n",
    "    context_object_name = 'post_list'"
   ]
  },
  {
   "cell_type": "markdown",
   "metadata": {},
   "source": [
    "要写一个类视图，首先需要继承 Django 提供的某个类视图。至于继承哪个类视图，需要根据你的视图功能而定。"
   ]
  },
  {
   "cell_type": "markdown",
   "metadata": {},
   "source": [
    "ListView 就是从数据库中获取某个模型列表数据"
   ]
  },
  {
   "cell_type": "markdown",
   "metadata": {},
   "source": [
    "通过一些属性来指定这个视图函数需要做的事情。这里我们指定了三个属性\n",
    "- model。将 model 指定为 Post，告诉 Django 我要获取的模型是 Post。\n",
    "- template_name。指定这个视图渲染的模板。\n",
    "- context_object_name。指定获取的模型列表数据保存的变量名。这个变量会被传递给模板。"
   ]
  },
  {
   "cell_type": "markdown",
   "metadata": {},
   "source": [
    "每一个 URL 对应着一个视图函数,需要将类视图转换成函数视图"
   ]
  },
  {
   "cell_type": "code",
   "execution_count": null,
   "metadata": {},
   "outputs": [],
   "source": [
    "# blog/urls.py\n",
    "\n",
    "app_name = 'blog'\n",
    "urlpatterns = [\n",
    "    url(r'^$', views.index, name='index'),\n",
    "    ...\n",
    "]"
   ]
  },
  {
   "cell_type": "code",
   "execution_count": null,
   "metadata": {},
   "outputs": [],
   "source": [
    "# blog/urls.py\n",
    "\n",
    "app_name = 'blog'\n",
    "urlpatterns = [\n",
    "    url(r'^$', views.IndexView.as_view(), name='index'),\n",
    "    ...\n",
    "]"
   ]
  },
  {
   "cell_type": "markdown",
   "metadata": {},
   "source": [
    "## 将 category 视图函数改写为类视图"
   ]
  },
  {
   "cell_type": "code",
   "execution_count": null,
   "metadata": {},
   "outputs": [],
   "source": [
    "# blog/views.py\n",
    "\n",
    "class CategoryView(ListView):\n",
    "    model = Post\n",
    "    template_name = 'blog/index.html'\n",
    "    context_object_name = 'post_list'\n",
    "\n",
    "    def get_queryset(self):\n",
    "        cate = get_object_or_404(Category, pk=self.kwargs.get('pk'))\n",
    "        return super(CategoryView, self).get_queryset().filter(category=cate)"
   ]
  },
  {
   "cell_type": "markdown",
   "metadata": {},
   "source": [
    "和 IndexView 不同的地方是，我们覆写了父类的 **get_queryset** 方法。该方法**默认获取指定模型的全部列表数据**。"
   ]
  },
  {
   "cell_type": "markdown",
   "metadata": {},
   "source": [
    "从 URL 中捕获的分类 id（也就是 pk）获取分类。  \n",
    "在类视图中，从 URL 捕获的命名组参数值保存在实例的 kwargs 属性（是一个字典）里，非命名组参数值保存在实例的 args 属性（是一个列表）里。所以我们使了 self.kwargs.get('pk') 来获取从 URL 捕获的分类 id 值。  \n",
    "调用父类的 get_queryset 方法获得全部文章列表，紧接着就对返回的结果调用了 filter 方法来筛选该分类下的全部文章并返回。"
   ]
  },
  {
   "cell_type": "markdown",
   "metadata": {},
   "source": [
    "我们可以看到 CategoryView 类中指定的属性值和 IndexView 中是一模一样的，所以如果为了进一步节省代码，甚至可以直接继承 IndexView："
   ]
  },
  {
   "cell_type": "code",
   "execution_count": null,
   "metadata": {},
   "outputs": [],
   "source": [
    "class CategoryView(IndexView):\n",
    "    def get_queryset(self):\n",
    "        cate = get_object_or_404(Category, pk=self.kwargs.get('pk'))\n",
    "        return super(CategoryView, self).get_queryset().filter(category=cate)"
   ]
  },
  {
   "cell_type": "code",
   "execution_count": null,
   "metadata": {},
   "outputs": [],
   "source": [
    "# blog/urls.py\n",
    "\n",
    "app_name = 'blog'\n",
    "urlpatterns = [\n",
    "    ...\n",
    "    url(r'^category/(?P<pk>[0-9]+)/$', views.CategoryView.as_view(), name='category'),\n",
    "]"
   ]
  },
  {
   "cell_type": "markdown",
   "metadata": {},
   "source": [
    "## 将 archives 视图函数改写成类视图"
   ]
  },
  {
   "cell_type": "markdown",
   "metadata": {},
   "source": [
    "# DetailView"
   ]
  },
  {
   "cell_type": "markdown",
   "metadata": {},
   "source": [
    "从数据库获取模型的一条记录数据"
   ]
  },
  {
   "cell_type": "code",
   "execution_count": null,
   "metadata": {},
   "outputs": [],
   "source": [
    "# blog/views.py\n",
    "\n",
    "from django.views.generic import ListView, DetailView\n",
    "\n",
    "# 记得在顶部导入 DetailView\n",
    "class PostDetailView(DetailView):\n",
    "    # 这些属性的含义和 ListView 是一样的\n",
    "    model = Post\n",
    "    template_name = 'blog/detail.html'\n",
    "    context_object_name = 'post'\n",
    "\n",
    "    def get(self, request, *args, **kwargs):\n",
    "        # 覆写 get 方法的目的是因为每当文章被访问一次，就得将文章阅读量 +1\n",
    "        # get 方法返回的是一个 HttpResponse 实例\n",
    "        # 之所以需要先调用父类的 get 方法，是因为只有当 get 方法被调用后，\n",
    "        # 才有 self.object 属性，其值为 Post 模型实例，即被访问的文章 post\n",
    "        response = super(PostDetailView, self).get(request, *args, **kwargs)\n",
    "\n",
    "        # 将文章阅读量 +1\n",
    "        # 注意 self.object 的值就是被访问的文章 post\n",
    "        self.object.increase_views()\n",
    "\n",
    "        # 视图必须返回一个 HttpResponse 对象\n",
    "        return response\n",
    "\n",
    "    def get_object(self, queryset=None):\n",
    "        # 覆写 get_object 方法的目的是因为需要对 post 的 body 值进行渲染\n",
    "        post = super(PostDetailView, self).get_object(queryset=None)\n",
    "        post.body = markdown.markdown(post.body,\n",
    "                                      extensions=[\n",
    "                                          'markdown.extensions.extra',\n",
    "                                          'markdown.extensions.codehilite',\n",
    "                                          'markdown.extensions.toc',\n",
    "                                      ])\n",
    "        return post\n",
    "\n",
    "    def get_context_data(self, **kwargs):\n",
    "        # 覆写 get_context_data 的目的是因为除了将 post 传递给模板外（DetailView 已经帮我们完成），\n",
    "        # 还要把评论表单、post 下的评论列表传递给模板。\n",
    "        context = super(PostDetailView, self).get_context_data(**kwargs)\n",
    "        form = CommentForm()\n",
    "        comment_list = self.object.comment_set.all()\n",
    "        context.update({\n",
    "            'form': form,\n",
    "            'comment_list': comment_list\n",
    "        })\n",
    "        return context"
   ]
  }
 ],
 "metadata": {
  "kernelspec": {
   "display_name": "Python 3",
   "language": "python",
   "name": "python3"
  },
  "language_info": {
   "codemirror_mode": {
    "name": "ipython",
    "version": 3
   },
   "file_extension": ".py",
   "mimetype": "text/x-python",
   "name": "python",
   "nbconvert_exporter": "python",
   "pygments_lexer": "ipython3",
   "version": "3.6.4"
  }
 },
 "nbformat": 4,
 "nbformat_minor": 2
}
