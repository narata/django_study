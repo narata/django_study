{
 "cells": [
  {
   "cell_type": "markdown",
   "metadata": {},
   "source": [
    "# 在模型中指定排序"
   ]
  },
  {
   "cell_type": "markdown",
   "metadata": {},
   "source": [
    "为了让文章（Post）按发布时间逆序排列，即最新发表的文章排在文章列表的最前面，我们对返回的文章列表进行了排序，即各个视图函数中都有类似于 Post.objects.all().order_by('-created_time') 这样的代码，这导致了很多重复。因为只要是返回的文章列表，基本都是逆序排列的，因此我们可以在 **Post 模型中指定 Post 的自然排序方式。**"
   ]
  },
  {
   "cell_type": "markdown",
   "metadata": {},
   "source": [
    "Django 允许我们在 models.Model 的子类里定义一个 Meta 的内部类，这个内部类通过指定一些属性来规定这个类该有的一些特性，例如在这里我们要指定 Post 的排序方式。首先看到 Post 的代码"
   ]
  },
  {
   "cell_type": "code",
   "execution_count": null,
   "metadata": {},
   "outputs": [],
   "source": [
    "# blog/models.py\n",
    "\n",
    "@python_2_unicode_compatible\n",
    "class Post(models.Model):\n",
    "    ...\n",
    "    created_time = models.DateTimeField()\n",
    "    ...\n",
    "\n",
    "    def __str__(self):\n",
    "        ...\n",
    "\n",
    "    def get_absolute_url(self):\n",
    "        ...\n",
    "\n",
    "    class Meta:\n",
    "        ordering = ['-created_time']"
   ]
  },
  {
   "cell_type": "markdown",
   "metadata": {},
   "source": [
    "ordering 属性用来指定文章排序方式，['-created_time'] 指定了依据哪个属性的值进行排序，这里指定为按照文章发布时间排序，且负号表示逆序排列。"
   ]
  },
  {
   "cell_type": "markdown",
   "metadata": {},
   "source": [
    "列表中可以用多个项，比如 ordering = ['-created_time', 'title'] ，那么首先依据 created_time 排序，如果 created_time 相同，则再依据 title 排序。这样指定以后所有返回的文章列表都会自动按照 Meta 中指定的顺序排序，因此可以删掉视图函数中对文章列表中返回结果进行排序的代码了。"
   ]
  },
  {
   "cell_type": "markdown",
   "metadata": {},
   "source": [
    "# 完善跳转链接"
   ]
  },
  {
   "cell_type": "markdown",
   "metadata": {},
   "source": [
    "导航栏有一个 Black & White 的 Logo，我们希望点击它就能回到首页面，只修修改一下超链接即可。打开 base.html，修改 Logo 处的超链接："
   ]
  },
  {
   "cell_type": "markdown",
   "metadata": {},
   "source": [
    "```HTML\n",
    "<header id=\"site-header\">\n",
    "  <div class=\"row\">\n",
    "      <div class=\"logo\">\n",
    "        - <h1><a href=\"index.html\"><b>Black</b> &amp; White</a></h1>\n",
    "        + <h1><a href=\"{% url 'blog:index' %}\"><b>Black</b> &amp; White</a></h1>\n",
    "      </div>\n",
    "  ...\n",
    "  </div>\n",
    "</header>\n",
    "```"
   ]
  },
  {
   "cell_type": "markdown",
   "metadata": {},
   "source": [
    "# 显示正确的评论量"
   ]
  },
  {
   "cell_type": "raw",
   "metadata": {},
   "source": [
    "{{ post.comment_set.count }}"
   ]
  }
 ],
 "metadata": {
  "kernelspec": {
   "display_name": "Python 3",
   "language": "python",
   "name": "python3"
  },
  "language_info": {
   "codemirror_mode": {
    "name": "ipython",
    "version": 3
   },
   "file_extension": ".py",
   "mimetype": "text/x-python",
   "name": "python",
   "nbconvert_exporter": "python",
   "pygments_lexer": "ipython3",
   "version": "3.6.4"
  }
 },
 "nbformat": 4,
 "nbformat_minor": 2
}
