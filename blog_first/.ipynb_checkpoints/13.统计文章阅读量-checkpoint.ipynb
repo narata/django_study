{
 "cells": [
  {
   "cell_type": "markdown",
   "metadata": {},
   "source": [
    "如何精确地记录一篇文章的阅读量是一个比较复杂的问题，不过对于我们的博客来说，没有必要记录的那么精确。因此我们使用一种简单但有效的方式来记录博客文章的阅读量：文章每被浏览一次，则其阅读量 +1，即所谓的文章页面 **PV（Page View）数**。虽然简单粗暴，但却高效实用。"
   ]
  },
  {
   "cell_type": "markdown",
   "metadata": {},
   "source": [
    "# 增加新字段"
   ]
  },
  {
   "cell_type": "code",
   "execution_count": null,
   "metadata": {},
   "outputs": [],
   "source": [
    "# blog/models.py\n",
    "\n",
    "class Post(models.Model):\n",
    "    # ... 其它已有字段\n",
    "    # 新增 views 字段记录阅读量\n",
    "    views = models.PositiveIntegerField(default=0)"
   ]
  },
  {
   "cell_type": "markdown",
   "metadata": {},
   "source": [
    "注意 views 字段的类型为 PositiveIntegerField，该类型的值只允许为正整数或 0，因为阅读量不可能为负值。初始化时 views 的值为 0。"
   ]
  },
  {
   "cell_type": "markdown",
   "metadata": {},
   "source": [
    "# 增加模型方法"
   ]
  },
  {
   "cell_type": "markdown",
   "metadata": {},
   "source": [
    "一旦用户访问了某篇文章，这时就应该将 views 的值 +1，这个过程最好由 Post 模型自己来完成，因此再给模型添加一个自定义的方法："
   ]
  },
  {
   "cell_type": "code",
   "execution_count": null,
   "metadata": {},
   "outputs": [],
   "source": [
    "# blog/models.py\n",
    "\n",
    "class Post(models.Model):\n",
    "    # ... 其它已有字段\n",
    "    # 新增 views 字段记录阅读量\n",
    "    views = models.PositiveIntegerField(default=0)\n",
    "\n",
    "    # ... 其它已有的模型方法\n",
    "\n",
    "    def increase_views(self):\n",
    "        self.views += 1\n",
    "        self.save(update_fields=['views'])"
   ]
  },
  {
   "cell_type": "markdown",
   "metadata": {},
   "source": [
    "调用 save 方法将更改后的值保存到数据库。注意这里使用了 update_fields 参数来告诉 Django 只更新数据库中 views 字段的值，以提高效率。"
   ]
  },
  {
   "cell_type": "markdown",
   "metadata": {},
   "source": [
    "# 迁移数据库"
   ]
  },
  {
   "cell_type": "raw",
   "metadata": {},
   "source": [
    "python manage.py makemigrations\n",
    "python manage.py migrate"
   ]
  },
  {
   "cell_type": "markdown",
   "metadata": {},
   "source": [
    "# 修改视图函数"
   ]
  },
  {
   "cell_type": "code",
   "execution_count": null,
   "metadata": {},
   "outputs": [],
   "source": [
    "# blog/views.py\n",
    "\n",
    "def detail(request, pk):\n",
    "    post = get_object_or_404(Post, pk=pk)\n",
    "\n",
    "    # 阅读量 +1\n",
    "    post.increase_views()\n",
    "\n",
    "    post.body = markdown.markdown(post.body,\n",
    "                                  extensions=[\n",
    "                                      'markdown.extensions.extra',\n",
    "                                      'markdown.extensions.codehilite',\n",
    "                                      'markdown.extensions.toc',\n",
    "                                  ])\n",
    "    form = CommentForm()\n",
    "    comment_list = post.comment_set.all()\n",
    "    context = {'post': post,\n",
    "               'form': form,\n",
    "               'comment_list': comment_list\n",
    "               }\n",
    "    return render(request, 'blog/detail.html', context=context)"
   ]
  },
  {
   "cell_type": "markdown",
   "metadata": {},
   "source": [
    "# 在模板中显示阅读量"
   ]
  },
  {
   "cell_type": "markdown",
   "metadata": {},
   "source": [
    "在模板中显示阅读量和显示其它字段一样，只需要使用模板变量即可。即模板适当的地方使用 {{ post.views }} 模板变量。这里我们分别修改两个地方，分别是 index.html 和 detail.html。"
   ]
  },
  {
   "cell_type": "markdown",
   "metadata": {},
   "source": [
    "```HTML\n",
    "templates/blog/index.html\n",
    "\n",
    "<div class=\"entry-meta\">\n",
    "  ...\n",
    "  <span class=\"views-count\"><a href=\"{{ post.get_absolute_url }}\">{{ post.views }} 阅读</a></span>\n",
    "</div>\n",
    "```"
   ]
  },
  {
   "cell_type": "markdown",
   "metadata": {},
   "source": [
    "```HTML\n",
    "templates/blog/detail.html\n",
    "\n",
    "<div class=\"entry-meta\">\n",
    "  ...\n",
    "  <span class=\"views-count\"><a href=\"#\">{{ post.views }} 阅读</a></span>\n",
    "</div>\n",
    "```"
   ]
  }
 ],
 "metadata": {
  "kernelspec": {
   "display_name": "Python 3",
   "language": "python",
   "name": "python3"
  },
  "language_info": {
   "codemirror_mode": {
    "name": "ipython",
    "version": 3
   },
   "file_extension": ".py",
   "mimetype": "text/x-python",
   "name": "python",
   "nbconvert_exporter": "python",
   "pygments_lexer": "ipython3",
   "version": "3.6.4"
  }
 },
 "nbformat": 4,
 "nbformat_minor": 2
}
