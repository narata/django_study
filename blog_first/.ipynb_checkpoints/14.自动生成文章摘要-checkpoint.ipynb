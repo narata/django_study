{
 "cells": [
  {
   "cell_type": "markdown",
   "metadata": {},
   "source": [
    "我们来实现如果文章没有输入摘要，则自动摘取正文的前 N 个字符作为摘要，这有两种实现方法。"
   ]
  },
  {
   "cell_type": "markdown",
   "metadata": {},
   "source": [
    "# 复写 save 方法"
   ]
  },
  {
   "cell_type": "markdown",
   "metadata": {},
   "source": [
    "通过复写模型的 save 方法，从正文字段摘取前 N 个字符保存到摘要字段。"
   ]
  },
  {
   "cell_type": "code",
   "execution_count": null,
   "metadata": {},
   "outputs": [],
   "source": [
    "# blog/models.py\n",
    "\n",
    "import markdown\n",
    "from django.utils.html import strip_tags\n",
    "\n",
    "class Post(models.Model):\n",
    "    # 其它字段...\n",
    "    body = models.TextField()\n",
    "    excerpt = models.CharField(max_length=200, blank=True)\n",
    "\n",
    "    # 其它方法...\n",
    "\n",
    "    def save(self, *args, **kwargs):    \n",
    "        # 如果没有填写摘要\n",
    "        if not self.excerpt:\n",
    "            # 首先实例化一个 Markdown 类，用于渲染 body 的文本\n",
    "            md = markdown.Markdown(extensions=[\n",
    "                'markdown.extensions.extra',\n",
    "                'markdown.extensions.codehilite',\n",
    "            ])\n",
    "            # 先将 Markdown 文本渲染成 HTML 文本\n",
    "            # strip_tags 去掉 HTML 文本的全部 HTML 标签\n",
    "            # 从文本摘取前 54 个字符赋给 excerpt\n",
    "            self.excerpt = strip_tags(md.convert(self.body))[:54]\n",
    "\n",
    "        # 调用父类的 save 方法将数据保存到数据库中\n",
    "        super(Post, self).save(*args, **kwargs)"
   ]
  },
  {
   "cell_type": "markdown",
   "metadata": {},
   "source": [
    "先将 body 中的 Markdown 文本转为 HTML 文本，去掉 HTML 文本里的 HTML 标签，然后摘取文本的前 54 个字符作为摘要。去掉 HTML 标签的目的是防止前 54 个字符中存在块级 HTML 标签而使得摘要格式比较难看。"
   ]
  },
  {
   "cell_type": "markdown",
   "metadata": {},
   "source": [
    "# 使用 truncatechars 模板过滤器"
   ]
  },
  {
   "cell_type": "markdown",
   "metadata": {},
   "source": [
    "使用 truncatechars 模板过滤器（Filter）"
   ]
  },
  {
   "cell_type": "markdown",
   "metadata": {},
   "source": [
    "在 Django 的模板系统中，模板过滤器的使用语法为 {{ var | filter: arg }}。可以将模板过滤看做一个函数，它会作用于被它过滤的模板变量，从而改变模板变量的值。"
   ]
  },
  {
   "cell_type": "raw",
   "metadata": {},
   "source": [
    "{{ post.body | truncatechars:54 }}"
   ]
  },
  {
   "cell_type": "markdown",
   "metadata": {},
   "source": [
    "```HTML\n",
    "templates/blog/index.html\n",
    "\n",
    "<article class=\"post post-{{ post.pk }}\">\n",
    "  ...\n",
    "  <div class=\"entry-content clearfix\">\n",
    "      <p>{{ post.body|truncatechars:54 }}</p>\n",
    "      <div class=\"read-more cl-effect-14\">\n",
    "          <a href=\"{{ post.get_absolute_url }}\" class=\"more-link\">继续阅读 <span class=\"meta-nav\">→</span></a>\n",
    "      </div>\n",
    "  </div>\n",
    "</article>\n",
    "```"
   ]
  },
  {
   "cell_type": "markdown",
   "metadata": {},
   "source": [
    "不过这种方法的一个缺点就是如果前 54 个字符含有块级 HTML 元素标签的话（比如一段代码块），会使摘要比较难看。所以推荐使用第一种方法。"
   ]
  }
 ],
 "metadata": {
  "kernelspec": {
   "display_name": "Python 3",
   "language": "python",
   "name": "python3"
  },
  "language_info": {
   "codemirror_mode": {
    "name": "ipython",
    "version": 3
   },
   "file_extension": ".py",
   "mimetype": "text/x-python",
   "name": "python",
   "nbconvert_exporter": "python",
   "pygments_lexer": "ipython3",
   "version": "3.6.4"
  }
 },
 "nbformat": 4,
 "nbformat_minor": 2
}
