{
 "cells": [
  {
   "cell_type": "markdown",
   "metadata": {},
   "source": [
    "Django 内置的 Pagination 能够帮助我们实现简单的分页功能"
   ]
  },
  {
   "cell_type": "markdown",
   "metadata": {},
   "source": [
    "# Paginator 类的常用方法"
   ]
  },
  {
   "cell_type": "markdown",
   "metadata": {},
   "source": [
    "位于 django/core/paginator.py"
   ]
  },
  {
   "cell_type": "raw",
   "metadata": {},
   "source": [
    "from django.core.paginator import Paginator"
   ]
  },
  {
   "cell_type": "code",
   "execution_count": null,
   "metadata": {},
   "outputs": [],
   "source": [
    "# blog/views.py\n",
    "\n",
    "class IndexView(ListView):\n",
    "    model = Post\n",
    "    template_name = 'blog/index.html'\n",
    "    context_object_name = 'post_list'\n",
    "    # 指定 paginate_by 属性后开启分页功能，其值代表每一页包含多少篇文章\n",
    "    paginate_by = 10"
   ]
  },
  {
   "cell_type": "markdown",
   "metadata": {},
   "source": [
    "# 在模板中设置分页导航"
   ]
  },
  {
   "cell_type": "markdown",
   "metadata": {},
   "source": [
    "- paginator ，即 Paginator 的实例。\n",
    "- page_obj ，当前请求页面分页对象。\n",
    "- is_paginated，是否已分页。只有当分页后页面超过两页时才算已分页。\n",
    "- object_list，请求页面的对象列表，和 post_list 等价。所以在模板中循环文章列表时可以选 post_list ，也可以选 object_list。"
   ]
  },
  {
   "cell_type": "markdown",
   "metadata": {},
   "source": [
    "```HTML\n",
    "templates/blog/index.html\n",
    "\n",
    "{% if is_paginated %}\n",
    "<div class=\"pagination-simple\">\n",
    "  <!-- 如果当前页还有上一页，显示一个上一页的按钮 -->\n",
    "  {% if page_obj.has_previous %}\n",
    "    <a href=\"?page={{ page_obj.previous_page_number }}\">上一页</a>\n",
    "  {% endif %}\n",
    "  <!-- 显示当前页面信息 -->\n",
    "  <span class=\"current\">第 {{ page_obj.number }} 页 / 共 {{ paginator.num_pages }} 页</span>\n",
    "  <!-- 如果当前页还有下一页，显示一个下一页的按钮 -->\n",
    "  {% if page_obj.has_next %}\n",
    "    <a href=\"?page={{ page_obj.next_page_number }}\">下一页</a>\n",
    "  {% endif %}\n",
    "</div>\n",
    "{% endif %}\n",
    "```"
   ]
  }
 ],
 "metadata": {
  "kernelspec": {
   "display_name": "Python 3",
   "language": "python",
   "name": "python3"
  },
  "language_info": {
   "codemirror_mode": {
    "name": "ipython",
    "version": 3
   },
   "file_extension": ".py",
   "mimetype": "text/x-python",
   "name": "python",
   "nbconvert_exporter": "python",
   "pygments_lexer": "ipython3",
   "version": "3.6.5"
  }
 },
 "nbformat": 4,
 "nbformat_minor": 2
}
