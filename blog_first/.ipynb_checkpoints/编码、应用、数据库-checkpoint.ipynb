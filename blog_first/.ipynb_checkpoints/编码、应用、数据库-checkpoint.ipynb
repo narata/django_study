{
 "cells": [
  {
   "cell_type": "markdown",
   "metadata": {},
   "source": [
    "# 设置中文编码"
   ]
  },
  {
   "cell_type": "code",
   "execution_count": null,
   "metadata": {},
   "outputs": [],
   "source": [
    "blogproject/blogproject/settings.py\n",
    "\n",
    "## 其它配置代码...\n",
    "\n",
    "LANGUAGE_CODE = 'en-us'\n",
    "TIME_ZONE = 'UTC'\n",
    "\n",
    "## 其它配置代码..."
   ]
  },
  {
   "cell_type": "code",
   "execution_count": null,
   "metadata": {},
   "outputs": [],
   "source": [
    "blogproject/blogproject/settings.py\n",
    "\n",
    "## 其它配置代码...\n",
    "\n",
    "# 把英文改为中文\n",
    "LANGUAGE_CODE = 'zh-hans'\n",
    "\n",
    "# 把国际时区改为中国时区\n",
    "TIME_ZONE = 'Asia/Shanghai'\n",
    "\n",
    "## 其它配置代码..."
   ]
  },
  {
   "cell_type": "code",
   "execution_count": null,
   "metadata": {},
   "outputs": [],
   "source": []
  }
 ],
 "metadata": {
  "kernelspec": {
   "display_name": "Python 3",
   "language": "python",
   "name": "python3"
  },
  "language_info": {
   "codemirror_mode": {
    "name": "ipython",
    "version": 3
   },
   "file_extension": ".py",
   "mimetype": "text/x-python",
   "name": "python",
   "nbconvert_exporter": "python",
   "pygments_lexer": "ipython3",
   "version": "3.6.4"
  }
 },
 "nbformat": 4,
 "nbformat_minor": 2
}
