{
 "cells": [
  {
   "cell_type": "markdown",
   "metadata": {},
   "source": [
    "# 创建评论应用"
   ]
  },
  {
   "cell_type": "raw",
   "metadata": {},
   "source": [
    "python manage.py startapp comments"
   ]
  },
  {
   "cell_type": "markdown",
   "metadata": {},
   "source": [
    "**注册应用**"
   ]
  },
  {
   "cell_type": "code",
   "execution_count": null,
   "metadata": {},
   "outputs": [],
   "source": [
    "# blogproject/settings.py\n",
    "\n",
    "...\n",
    "INSTALLED_APPS = [\n",
    "    'django.contrib.admin',\n",
    "    'django.contrib.auth',\n",
    "    'django.contrib.contenttypes',\n",
    "    'django.contrib.sessions',\n",
    "    'django.contrib.messages',\n",
    "    'django.contrib.staticfiles',\n",
    "    'blog',\n",
    "    'comments', # 注册新创建的 comments 应用\n",
    "]\n",
    "..."
   ]
  },
  {
   "cell_type": "markdown",
   "metadata": {},
   "source": [
    "# 设计评论的数据库模型"
   ]
  },
  {
   "cell_type": "code",
   "execution_count": null,
   "metadata": {},
   "outputs": [],
   "source": [
    "# comments/models.py\n",
    "\n",
    "from django.db import models\n",
    "from django.utils.six import python_2_unicode_compatible\n",
    "\n",
    "# python_2_unicode_compatible 装饰器用于兼容 Python2\n",
    "@python_2_unicode_compatible\n",
    "class Comment(models.Model):\n",
    "    name = models.CharField(max_length=100)\n",
    "    email = models.EmailField(max_length=255)\n",
    "    url = models.URLField(blank=True)\n",
    "    text = models.TextField()\n",
    "    created_time = models.DateTimeField(auto_now_add=True)\n",
    "\n",
    "    post = models.ForeignKey('blog.Post')\n",
    "\n",
    "    def __str__(self):\n",
    "        return self.text[:20]"
   ]
  },
  {
   "cell_type": "markdown",
   "metadata": {},
   "source": [
    "我们为 DateTimeField 传递了一个 auto_now_add=True 的参数值。auto_now_add 的作用是，当评论数据保存到数据库时，自动把 created_time 的值指定为当前时间。"
   ]
  },
  {
   "cell_type": "markdown",
   "metadata": {},
   "source": [
    "**创建数据库表**"
   ]
  },
  {
   "cell_type": "raw",
   "metadata": {},
   "source": [
    "python manage.py makemigrations\n",
    "python manage.py migrate"
   ]
  },
  {
   "cell_type": "markdown",
   "metadata": {},
   "source": [
    "# 评论表单设计"
   ]
  },
  {
   "cell_type": "markdown",
   "metadata": {},
   "source": [
    "在 comments\\ 目录下（和 models.py 同级）新建一个 forms.py 文件，用来存放表单代码，我们的表单代码如下："
   ]
  },
  {
   "cell_type": "code",
   "execution_count": null,
   "metadata": {},
   "outputs": [],
   "source": [
    "# comments/forms.py\n",
    "\n",
    "from django import forms\n",
    "from .models import Comment\n",
    "\n",
    "\n",
    "class CommentForm(forms.ModelForm):\n",
    "    class Meta:\n",
    "        model = Comment\n",
    "        fields = ['name', 'email', 'url', 'text']"
   ]
  },
  {
   "cell_type": "markdown",
   "metadata": {},
   "source": [
    "要使用 Django 的表单功能，我们首先导入 forms 模块。  \n",
    "Django 的表单类必须继承自 forms.Form 类或者 forms.ModelForm 类。  \n",
    "如果表单对应有一个数据库模型（例如这里的评论表单对应着评论模型），那么使用 ModelForm 类会简单很多，这是 Django 为我们提供的方便。  \n",
    "之后我们在表单的内部类 Meta 里指定一些和表单相关的东西。  \n",
    "model = Comment 表明这个表单对应的数据库模型是 Comment 类。  \n",
    "fields = ['name', 'email', 'url', 'text'] 指定了表单需要显示的字段，这里我们指定了 name、email、url、text 需要显示。"
   ]
  },
  {
   "cell_type": "markdown",
   "metadata": {},
   "source": [
    "# 关于表单进一步的解释"
   ]
  },
  {
   "cell_type": "markdown",
   "metadata": {},
   "source": [
    "Django 的表单和这个思想类似，正常的前端表单代码应该是和本文开头所提及的那样，但是我们目前并没有写这些代码，而是写了一个 CommentForm 这个 Python 类。通过调用这个类的一些方法和属性，Django 将自动为我们创建常规的表单代码，接下来的教程我们就会看到具体是怎么做的"
   ]
  },
  {
   "cell_type": "markdown",
   "metadata": {},
   "source": [
    "# 评论视图函数"
   ]
  },
  {
   "cell_type": "code",
   "execution_count": null,
   "metadata": {},
   "outputs": [],
   "source": [
    "# comments/views.py\n",
    "\n",
    "from django.shortcuts import render, get_object_or_404, redirect\n",
    "from blog.models import Post\n",
    "\n",
    "from .models import Comment\n",
    "from .forms import CommentForm\n",
    "\n",
    "\n",
    "def post_comment(request, post_pk):\n",
    "    # 先获取被评论的文章，因为后面需要把评论和被评论的文章关联起来。\n",
    "    # 这里我们使用了 Django 提供的一个快捷函数 get_object_or_404，\n",
    "    # 这个函数的作用是当获取的文章（Post）存在时，则获取；否则返回 404 页面给用户。\n",
    "    post = get_object_or_404(Post, pk=post_pk)\n",
    "\n",
    "    # HTTP 请求有 get 和 post 两种，一般用户通过表单提交数据都是通过 post 请求，\n",
    "    # 因此只有当用户的请求为 post 时才需要处理表单数据。\n",
    "    if request.method == 'POST':\n",
    "        # 用户提交的数据存在 request.POST 中，这是一个类字典对象。\n",
    "        # 我们利用这些数据构造了 CommentForm 的实例，这样 Django 的表单就生成了。\n",
    "        form = CommentForm(request.POST)\n",
    "\n",
    "        # 当调用 form.is_valid() 方法时，Django 自动帮我们检查表单的数据是否符合格式要求。\n",
    "        if form.is_valid():\n",
    "            # 检查到数据是合法的，调用表单的 save 方法保存数据到数据库，\n",
    "            # commit=False 的作用是仅仅利用表单的数据生成 Comment 模型类的实例，但还不保存评论数据到数据库。\n",
    "            comment = form.save(commit=False)\n",
    "\n",
    "            # 将评论和被评论的文章关联起来。\n",
    "            comment.post = post\n",
    "\n",
    "            # 最终将评论数据保存进数据库，调用模型实例的 save 方法\n",
    "            comment.save()\n",
    "\n",
    "            # 重定向到 post 的详情页，实际上当 redirect 函数接收一个模型的实例时，它会调用这个模型实例的 get_absolute_url 方法，\n",
    "            # 然后重定向到 get_absolute_url 方法返回的 URL。\n",
    "            return redirect(post)\n",
    "\n",
    "        else:\n",
    "            # 检查到数据不合法，重新渲染详情页，并且渲染表单的错误。\n",
    "            # 因此我们传了三个模板变量给 detail.html，\n",
    "            # 一个是文章（Post），一个是评论列表，一个是表单 form\n",
    "            # 注意这里我们用到了 post.comment_set.all() 方法，\n",
    "            # 这个用法有点类似于 Post.objects.all()\n",
    "            # 其作用是获取这篇 post 下的的全部评论，\n",
    "            # 因为 Post 和 Comment 是 ForeignKey 关联的，\n",
    "            # 因此使用 post.comment_set.all() 反向查询全部评论。\n",
    "            # 具体请看下面的讲解。\n",
    "            comment_list = post.comment_set.all()\n",
    "            context = {'post': post,\n",
    "                       'form': form,\n",
    "                       'comment_list': comment_list\n",
    "                       }\n",
    "            return render(request, 'blog/detail.html', context=context)\n",
    "    # 不是 post 请求，说明用户没有提交数据，重定向到文章详情页。\n",
    "    return redirect(post)"
   ]
  },
  {
   "cell_type": "markdown",
   "metadata": {},
   "source": [
    "首先我们使用了 **redirect** 函数。这个函数位于 **django.shortcuts** 模块中，它的作用是对 HTTP 请求进行重定向（即用户访问的是某个 URL，但由于某些原因，服务器会将用户重定向到另外的 URL）。redirect 既可以接收一个 URL 作为参数，也可以接收一个**模型的实例**作为参数（例如这里的 post）。如果接收一个模型的实例，那么这个实例必须实现了 **get_absolute_url** 方法，这样 redirect 会根据 get_absolute_url 方法返回的 URL 值进行重定向。"
   ]
  },
  {
   "cell_type": "markdown",
   "metadata": {},
   "source": [
    "使用了 **post.comment_set.all()** 来获取 post 对应的全部评论"
   ]
  },
  {
   "cell_type": "markdown",
   "metadata": {},
   "source": [
    "我们已经有了一个 Post 模型的实例 post（它对应的是 Post 在数据库中的一条记录），那么获取和 post 关联的评论列表有一个简单方法，即调用它的 **xxx_set** 属性来获取一个类似于 objects 的模型管理器，然后调用其 all 方法来返回这个 post 关联的全部评论。"
   ]
  },
  {
   "cell_type": "markdown",
   "metadata": {},
   "source": [
    "其中 **xxx_set** 中的 xxx 为关联模型的类名（小写）。例如 **Post.objects.filter(category=cate)** 也可以等价写为 **cate.post_set.all()**。"
   ]
  },
  {
   "cell_type": "markdown",
   "metadata": {},
   "source": [
    "# 绑定 URL"
   ]
  },
  {
   "cell_type": "code",
   "execution_count": null,
   "metadata": {},
   "outputs": [],
   "source": [
    "# comments/urls.py\n",
    "\n",
    "from django.conf.urls import url\n",
    "\n",
    "from . import views\n",
    "\n",
    "app_name = 'comments'\n",
    "urlpatterns = [\n",
    "    url(r'^comment/post/(?P<post_pk>[0-9]+)/$', views.post_comment, name='post_comment'),\n",
    "]"
   ]
  },
  {
   "cell_type": "code",
   "execution_count": null,
   "metadata": {},
   "outputs": [],
   "source": [
    "# blogproject/urls.py\n",
    "\n",
    "urlpatterns = [\n",
    "    url(r'^admin/', admin.site.urls),\n",
    "    url(r'', include('blog.urls')),\n",
    "    + url(r'', include('comments.urls')),\n",
    "]"
   ]
  },
  {
   "cell_type": "markdown",
   "metadata": {},
   "source": [
    "# 更新文章详情页面的视图函数"
   ]
  },
  {
   "cell_type": "code",
   "execution_count": null,
   "metadata": {},
   "outputs": [],
   "source": [
    "# blog/views.py\n",
    "\n",
    "import markdown\n",
    "\n",
    "from django.shortcuts import render, get_object_or_404\n",
    "\n",
    "+ from comments.forms import CommentForm\n",
    "from .models import Post, Category\n",
    "\n",
    "def detail(request, pk):\n",
    "    post = get_object_or_404(Post, pk=pk)\n",
    "    post.body = markdown.markdown(post.body,\n",
    "                                  extensions=[\n",
    "                                      'markdown.extensions.extra',\n",
    "                                      'markdown.extensions.codehilite',\n",
    "                                      'markdown.extensions.toc',\n",
    "                                  ])\n",
    "    # 记得在顶部导入 CommentForm\n",
    "    form = CommentForm()\n",
    "    # 获取这篇 post 下的全部评论\n",
    "    comment_list = post.comment_set.all()\n",
    "\n",
    "    # 将文章、表单、以及文章下的评论列表作为模板变量传给 detail.html 模板，以便渲染相应数据。\n",
    "    context = {'post': post,\n",
    "               'form': form,\n",
    "               'comment_list': comment_list\n",
    "               }\n",
    "    return render(request, 'blog/detail.html', context=context)"
   ]
  },
  {
   "cell_type": "markdown",
   "metadata": {},
   "source": [
    "# 在前端渲染表单"
   ]
  },
  {
   "cell_type": "markdown",
   "metadata": {},
   "source": [
    "```HTML\n",
    "<form action=\"{% url 'comments:post_comment' post.pk %}\" method=\"post\" class=\"comment-form\">\n",
    "  {% csrf_token %}\n",
    "  <div class=\"row\">\n",
    "    <div class=\"col-md-4\">\n",
    "      <label for=\"{{ form.name.id_for_label }}\">名字：</label>\n",
    "      {{ form.name }}\n",
    "      {{ form.name.errors }}\n",
    "    </div>\n",
    "    <div class=\"col-md-4\">\n",
    "      <label for=\"{{ form.email.id_for_label }}\">邮箱：</label>\n",
    "      {{ form.email }}\n",
    "      {{ form.email.errors }}\n",
    "    </div>\n",
    "    <div class=\"col-md-4\">\n",
    "      <label for=\"{{ form.url.id_for_label }}\">URL：</label>\n",
    "      {{ form.url }}\n",
    "      {{ form.url.errors }}\n",
    "    </div>\n",
    "    <div class=\"col-md-12\">\n",
    "      <label for=\"{{ form.text.id_for_label }}\">评论：</label>\n",
    "      {{ form.text }}\n",
    "      {{ form.text.errors }}\n",
    "      <button type=\"submit\" class=\"comment-btn\">发表</button>\n",
    "    </div>\n",
    "  </div>    <!-- row -->\n",
    "</form>\n",
    "```"
   ]
  },
  {
   "cell_type": "markdown",
   "metadata": {},
   "source": [
    "{{ form.name }}、{{ form.email }}、{{ form.url }} 等将自动渲染成表单控件，例如 ```<input>``` 控件。"
   ]
  },
  {
   "cell_type": "markdown",
   "metadata": {},
   "source": [
    "{{ form.name.errors }}、{{ form.email.errors }} 等将渲染表单对应字段的错误（如果有的话），例如用户 email 格式填错了，那么 Django 会检查用户提交的 email 的格式，然后将格式错误信息保存到 errors 中，模板便将错误信息渲染显示。"
   ]
  },
  {
   "cell_type": "markdown",
   "metadata": {},
   "source": [
    "# 显示评论内容"
   ]
  },
  {
   "cell_type": "markdown",
   "metadata": {},
   "source": [
    "```HTML\n",
    "<ul class=\"comment-list list-unstyled\">\n",
    "  {% for comment in comment_list %}\n",
    "  <li class=\"comment-item\">\n",
    "    <span class=\"nickname\">{{ comment.name }}</span>\n",
    "    <time class=\"submit-date\">{{ comment.created_time }}</time>\n",
    "    <div class=\"text\">\n",
    "      {{ comment.text }}\n",
    "    </div>\n",
    "  </li>\n",
    "  {% empty %}\n",
    "  暂无评论\n",
    "  {% endfor %}\n",
    "</ul>\n",
    "```"
   ]
  }
 ],
 "metadata": {
  "kernelspec": {
   "display_name": "Python 3",
   "language": "python",
   "name": "python3"
  },
  "language_info": {
   "codemirror_mode": {
    "name": "ipython",
    "version": 3
   },
   "file_extension": ".py",
   "mimetype": "text/x-python",
   "name": "python",
   "nbconvert_exporter": "python",
   "pygments_lexer": "ipython3",
   "version": "3.6.4"
  }
 },
 "nbformat": 4,
 "nbformat_minor": 2
}
