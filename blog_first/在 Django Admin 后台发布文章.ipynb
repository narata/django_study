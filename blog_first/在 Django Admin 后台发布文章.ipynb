{
 "cells": [
  {
   "cell_type": "markdown",
   "metadata": {},
   "source": [
    "# 创建 Admin 后台管理员账户"
   ]
  },
  {
   "cell_type": "raw",
   "metadata": {},
   "source": [
    "python manage.py createsuperuser"
   ]
  },
  {
   "cell_type": "markdown",
   "metadata": {},
   "source": [
    "# 在 Admin 后台注册模型"
   ]
  },
  {
   "cell_type": "code",
   "execution_count": null,
   "metadata": {},
   "outputs": [],
   "source": [
    "# blog/admin.py\n",
    "\n",
    "from django.contrib import admin\n",
    "from .models import Post, Category, Tag\n",
    "\n",
    "admin.site.register(Post)\n",
    "admin.site.register(Category)\n",
    "admin.site.register(Tag)"
   ]
  },
  {
   "cell_type": "markdown",
   "metadata": {},
   "source": [
    "# 定制 Admin 后台"
   ]
  },
  {
   "cell_type": "code",
   "execution_count": null,
   "metadata": {},
   "outputs": [],
   "source": [
    "# blog/admin.py\n",
    "\n",
    "from django.contrib import admin\n",
    "from .models import Post, Category, Tag\n",
    "\n",
    "class PostAdmin(admin.ModelAdmin):\n",
    "    list_display = ['title', 'created_time', 'modified_time', 'category', 'author']\n",
    "\n",
    "# 把新增的 PostAdmin 也注册进来\n",
    "admin.site.register(Post, PostAdmin)\n",
    "admin.site.register(Category)\n",
    "admin.site.register(Tag)"
   ]
  }
 ],
 "metadata": {
  "kernelspec": {
   "display_name": "Python 3",
   "language": "python",
   "name": "python3"
  },
  "language_info": {
   "codemirror_mode": {
    "name": "ipython",
    "version": 3
   },
   "file_extension": ".py",
   "mimetype": "text/x-python",
   "name": "python",
   "nbconvert_exporter": "python",
   "pygments_lexer": "ipython3",
   "version": "3.6.4"
  }
 },
 "nbformat": 4,
 "nbformat_minor": 2
}
