{
 "cells": [
  {
   "cell_type": "markdown",
   "metadata": {},
   "source": [
    "# 使用模板标签的解决思路"
   ]
  },
  {
   "cell_type": "markdown",
   "metadata": {},
   "source": [
    "**{% static %}** 模板标签，这个标签帮助我们在模板中引入静态文件"
   ]
  },
  {
   "cell_type": "markdown",
   "metadata": {},
   "source": [
    "我们希望**自己定义**一个模板标签，例如名为 **get_recent_posts** 的模板标签，它可以这样工作：我们只要在模板中写入 **{% get_recent_posts as recent_post_list %}** ，那么模板中就会有一个从数据库获取的最新文章列表，并通过 as 语句保存到 recent_post_list 模板变量里。这样我们就可以通过 {% for %} {% endfor%} 模板标签来循环这个变量，显示最新文章列表了，这和我们在编写博客首页面视图函数是类似的。"
   ]
  },
  {
   "cell_type": "markdown",
   "metadata": {},
   "source": [
    "# 模板标签目录结构"
   ]
  },
  {
   "cell_type": "markdown",
   "metadata": {},
   "source": [
    "在我们的 blog 应用下创建一个 **templatetags** 文件夹。然后在这个文件夹下创建一个 __init__.py 文件，使这个文件夹成为一个 Python 包，之后在 templatetags\\ 目录下创建一个 blog_tags.py 文件，这个文件存放自定义的模板标签代码。"
   ]
  },
  {
   "cell_type": "raw",
   "metadata": {},
   "source": [
    "blog\\\n",
    "    __init__.py\n",
    "    admin.py\n",
    "    apps.py\n",
    "    migrations\\\n",
    "        __init__.py\n",
    "    models.py\n",
    "    static\\\n",
    "    templatetags\\\n",
    "        __init__.py\n",
    "        blog_tags.py\n",
    "    tests.py\n",
    "    views.py"
   ]
  },
  {
   "cell_type": "markdown",
   "metadata": {},
   "source": [
    "# 编写模板标签代码"
   ]
  },
  {
   "cell_type": "markdown",
   "metadata": {},
   "source": [
    "模板标签本质上就是一个 Python 函数"
   ]
  },
  {
   "cell_type": "markdown",
   "metadata": {},
   "source": [
    "## 最新文章模板标签"
   ]
  },
  {
   "cell_type": "code",
   "execution_count": null,
   "metadata": {},
   "outputs": [],
   "source": [
    "# blog/templatetags/blog_tags.py\n",
    "\n",
    "from ..models import Post\n",
    "\n",
    "def get_recent_posts(num=5):\n",
    "    return Post.objects.all().order_by('-created_time')[:num]"
   ]
  },
  {
   "cell_type": "markdown",
   "metadata": {},
   "source": [
    "这个函数的功能是获取数据库中前 num 篇文章，这里 num 默认为 5。"
   ]
  },
  {
   "cell_type": "markdown",
   "metadata": {},
   "source": [
    "为了能够通过 {% get_recent_posts %} 的语法在模板中调用这个函数，必须按照 Django 的规定注册这个函数为模板标签，方法如下："
   ]
  },
  {
   "cell_type": "code",
   "execution_count": null,
   "metadata": {},
   "outputs": [],
   "source": [
    "# blog/templatetags/blog_tags.py\n",
    "\n",
    "from django import template\n",
    "from ..models import Post\n",
    "\n",
    "register = template.Library()\n",
    "\n",
    "@register.simple_tag\n",
    "def get_recent_posts(num=5):\n",
    "    return Post.objects.all().order_by('-created_time')[:num]"
   ]
  },
  {
   "cell_type": "markdown",
   "metadata": {},
   "source": [
    "首先导入 template 这个模块，然后实例化了一个 template.Library 类，并将函数 get_recent_posts 装饰为 register.simple_tag。"
   ]
  },
  {
   "cell_type": "markdown",
   "metadata": {},
   "source": [
    "## 归档模板标签"
   ]
  },
  {
   "cell_type": "code",
   "execution_count": null,
   "metadata": {},
   "outputs": [],
   "source": [
    "# blog/templatetags/blog_tags.py\n",
    "\n",
    "@register.simple_tag\n",
    "def archives():\n",
    "    return Post.objects.dates('created_time', 'month', order='DESC')"
   ]
  },
  {
   "cell_type": "markdown",
   "metadata": {},
   "source": [
    "这里 dates 方法会返回一个列表，列表中的元素为每一篇文章（Post）的创建时间，且是 Python 的 date 对象，精确到月份，降序排列。接受的三个参数值表明了这些含义，一个是 created_time ，即 Post 的创建时间，month 是精度，order='DESC' 表明降序排列（即离当前越近的时间越排在前面）。例如我们写了 3 篇文章，分别发布于 2017 年 2 月 21 日、2017 年 3 月 25 日、2017 年 3 月 28 日，那么 dates 函数将返回 2017 年 3 月 和 2017 年 2 月这样一个时间列表，且降序排列，从而帮助我们实现按月归档的目的。"
   ]
  },
  {
   "cell_type": "markdown",
   "metadata": {},
   "source": [
    "## 分类模板标签"
   ]
  },
  {
   "cell_type": "code",
   "execution_count": null,
   "metadata": {},
   "outputs": [],
   "source": [
    "# blog/templatetags/blog_tags.py\n",
    "\n",
    "from ..models import Post, Category\n",
    "\n",
    "@register.simple_tag\n",
    "def get_categories():\n",
    "    # 别忘了在顶部引入 Category 类\n",
    "    return Category.objects.all()"
   ]
  },
  {
   "cell_type": "markdown",
   "metadata": {},
   "source": [
    "# 使用自定义的模板标签"
   ]
  },
  {
   "cell_type": "markdown",
   "metadata": {},
   "source": [
    "打开 base.html，为了使用模板标签，我们首先需要在模板中导入存放这些模板标签的模块，这里是 blog_tags.py 模块。当时我们为了使用 static 模板标签时曾经导入过 {% load staticfiles %}，这次在 {% load staticfiles %} 下再导入 blog_tags："
   ]
  },
  {
   "cell_type": "markdown",
   "metadata": {},
   "source": [
    "```HTML\n",
    "templates/base.html\n",
    "\n",
    "{% load staticfiles %}\n",
    "{% load blog_tags %}\n",
    "<!DOCTYPE html>\n",
    "<html>\n",
    "...\n",
    "</html>\n",
    "```"
   ]
  },
  {
   "cell_type": "markdown",
   "metadata": {},
   "source": [
    "然后找到最新文章列表处，把里面的列表修改一下："
   ]
  },
  {
   "cell_type": "markdown",
   "metadata": {},
   "source": [
    "```HTML\n",
    "templates/base.html\n",
    "\n",
    "<div class=\"widget widget-recent-posts\">\n",
    "  <h3 class=\"widget-title\">最新文章</h3>\n",
    "  {% get_recent_posts as recent_post_list %}\n",
    "  <ul>\n",
    "    {% for post in recent_post_list %}\n",
    "    <li>\n",
    "      <a href=\"{{ post.get_absolute_url }}\">{{ post.title }}</a>\n",
    "    </li>\n",
    "    {% empty %}\n",
    "    暂无文章！\n",
    "    {% endfor %}\n",
    "  </ul>\n",
    "</div>\n",
    "```"
   ]
  },
  {
   "cell_type": "markdown",
   "metadata": {},
   "source": [
    "这里我们通过使用 get_recent_posts 模板标签获取到最新文章列表，然后我们通过 as 语法（Django 模板系统的语法）将获取的文章列表保存进了 recent_post_list 模板变量中，之后就可以通过 for 循环来循环显示文章列表数据了，这和我们在写首页视图时是一样的。"
   ]
  },
  {
   "cell_type": "markdown",
   "metadata": {},
   "source": [
    "**归档部分**"
   ]
  },
  {
   "cell_type": "markdown",
   "metadata": {},
   "source": [
    "```HTML\n",
    "templates/base.html\n",
    "\n",
    "<div class=\"widget widget-archives\">\n",
    "  <h3 class=\"widget-title\">归档</h3>\n",
    "  {% archives as date_list %}\n",
    "  <ul>\n",
    "    {% for date in date_list %}\n",
    "    <li>\n",
    "      <a href=\"#\">{{ date.year }} 年 {{ date.month }} 月</a>\n",
    "    </li>\n",
    "    {% empty %}\n",
    "    暂无归档！\n",
    "    {% endfor %}\n",
    "  </ul>\n",
    "</div>\n",
    "```"
   ]
  },
  {
   "cell_type": "markdown",
   "metadata": {},
   "source": [
    "同样，这里我们调用 archives 模板标签自动获取一个已发表文章的日期列表，精确到月份，降序排列，然后通过 as 语法将其保存在 date_list 模板变量里。由于日期列表中的元素为 Python 的 date 对象，因此可以通过其 year 和 month 属性分别获取年和月的信息，<a href=\"#\">{{ date.year }} 年 {{ date.month }} 月</a> 反应了这个事实。"
   ]
  },
  {
   "cell_type": "markdown",
   "metadata": {},
   "source": [
    "**分类**"
   ]
  },
  {
   "cell_type": "markdown",
   "metadata": {},
   "source": [
    "```HTML\n",
    "<div class=\"widget widget-category\">\n",
    "  <h3 class=\"widget-title\">分类</h3>\n",
    "  {% get_categories as category_list %}\n",
    "  <ul>\n",
    "    {% for category in category_list %}\n",
    "    <li>\n",
    "      <a href=\"#\">{{ category.name }} <span class=\"post-count\">(13)</span></a>\n",
    "    </li>\n",
    "    {% empty %}\n",
    "    暂无分类！\n",
    "    {% endfor %}\n",
    "  </ul>\n",
    "</div>\n",
    "```"
   ]
  },
  {
   "cell_type": "markdown",
   "metadata": {},
   "source": [
    "```<span class=\"post-count\">(13)</span>``` 显示的是该分类下的文章数目，这个特性会在接下来的教程中讲解如何实现，目前暂时用占位数据代替吧。"
   ]
  }
 ],
 "metadata": {
  "kernelspec": {
   "display_name": "Python 3",
   "language": "python",
   "name": "python3"
  },
  "language_info": {
   "codemirror_mode": {
    "name": "ipython",
    "version": 3
   },
   "file_extension": ".py",
   "mimetype": "text/x-python",
   "name": "python",
   "nbconvert_exporter": "python",
   "pygments_lexer": "ipython3",
   "version": "3.6.4"
  }
 },
 "nbformat": 4,
 "nbformat_minor": 2
}
