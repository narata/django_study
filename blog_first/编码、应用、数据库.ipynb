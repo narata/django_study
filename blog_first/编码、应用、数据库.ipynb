{
 "cells": [
  {
   "cell_type": "markdown",
   "metadata": {},
   "source": [
    "# 设置中文编码"
   ]
  },
  {
   "cell_type": "code",
   "execution_count": null,
   "metadata": {},
   "outputs": [],
   "source": [
    "LANGUAGE_CODE = 'en-us'\n",
    "TIME_ZONE = 'UTC'"
   ]
  },
  {
   "cell_type": "code",
   "execution_count": 2,
   "metadata": {},
   "outputs": [],
   "source": [
    "# 把英文改为中文\n",
    "LANGUAGE_CODE = 'zh-hans'\n",
    "\n",
    "# 把国际时区改为中国时区\n",
    "TIME_ZONE = 'Asia/Shanghai'"
   ]
  },
  {
   "cell_type": "markdown",
   "metadata": {},
   "source": [
    "# 建立 Django 博客应用"
   ]
  },
  {
   "cell_type": "raw",
   "metadata": {},
   "source": [
    "python manage.py startapp blog"
   ]
  },
  {
   "cell_type": "code",
   "execution_count": 4,
   "metadata": {},
   "outputs": [],
   "source": [
    "INSTALLED_APPS = [\n",
    "    'django.contrib.admin',\n",
    "    'django.contrib.auth',\n",
    "    'django.contrib.contenttypes',\n",
    "    'django.contrib.sessions',\n",
    "    'django.contrib.messages',\n",
    "    'django.contrib.staticfiles',\n",
    "    'blog', # 注册 blog 应用\n",
    "]"
   ]
  },
  {
   "cell_type": "markdown",
   "metadata": {},
   "source": [
    "# 数据库"
   ]
  },
  {
   "cell_type": "markdown",
   "metadata": {},
   "source": [
    "标题、正文、作者、发表时间\n",
    "分类、标签、评论\n",
    "\n",
    "初级版本主要包含博客文章，文章会有分类以及标签。一篇文章只能有一个分类，但可以打上很多标签。"
   ]
  },
  {
   "cell_type": "markdown",
   "metadata": {},
   "source": [
    "### 博客文章的数据库表"
   ]
  },
  {
   "cell_type": "raw",
   "metadata": {},
   "source": [
    "文章 id\t标题\t正文\t发表时间\t分类\t标签\n",
    "1\ttitle 1\ttext 1\t2016-12-23\tDjango\tDjango 学习\n",
    "2\ttitle 2\ttext 2\t2016-12-24\tDjango\tDjango 学习\n",
    "3\ttitle 3\ttext 3\t2016-12-26\tPython\tPython 学习"
   ]
  },
  {
   "cell_type": "markdown",
   "metadata": {},
   "source": [
    "### 分类和标签的数据库表："
   ]
  },
  {
   "cell_type": "raw",
   "metadata": {},
   "source": [
    "分类 id\t分类名\n",
    "1\tDjango\n",
    "2\tPython\n",
    "标签 id\t标签名\n",
    "1\tDjango 学习\n",
    "2\tPython 学习"
   ]
  },
  {
   "cell_type": "markdown",
   "metadata": {},
   "source": [
    "# 博客模型代码"
   ]
  },
  {
   "cell_type": "markdown",
   "metadata": {},
   "source": [
    "### blog/models.py"
   ]
  },
  {
   "cell_type": "code",
   "execution_count": null,
   "metadata": {},
   "outputs": [],
   "source": [
    "from django.db import models\n",
    "from django.contrib.auth.models import User\n",
    "\n",
    "\n",
    "class Category(models.Model):\n",
    "    \"\"\"\n",
    "    Django 要求模型必须继承 models.Model 类。\n",
    "    Category 只需要一个简单的分类名 name 就可以了。\n",
    "    CharField 指定了分类名 name 的数据类型，CharField 是字符型，\n",
    "    CharField 的 max_length 参数指定其最大长度，超过这个长度的分类名就不能被存入数据库。\n",
    "    当然 Django 还为我们提供了多种其它的数据类型，如日期时间类型 DateTimeField、整数类型 IntegerField 等等。\n",
    "    Django 内置的全部类型可查看文档：\n",
    "    https://docs.djangoproject.com/en/1.10/ref/models/fields/#field-types\n",
    "    \"\"\"\n",
    "    name = models.CharField(max_length=100)\n",
    "\n",
    "\n",
    "class Tag(models.Model):\n",
    "    \"\"\"\n",
    "    标签 Tag 也比较简单，和 Category 一样。\n",
    "    再次强调一定要继承 models.Model 类！\n",
    "    \"\"\"\n",
    "    name = models.CharField(max_length=100)\n",
    "\n",
    "\n",
    "class Post(models.Model):\n",
    "    \"\"\"\n",
    "    文章的数据库表稍微复杂一点，主要是涉及的字段更多。\n",
    "    \"\"\"\n",
    "\n",
    "    # 文章标题\n",
    "    title = models.CharField(max_length=70)\n",
    "\n",
    "    # 文章正文，我们使用了 TextField。\n",
    "    # 存储比较短的字符串可以使用 CharField，但对于文章的正文来说可能会是一大段文本，因此使用 TextField 来存储大段文本。\n",
    "    body = models.TextField()\n",
    "\n",
    "    # 这两个列分别表示文章的创建时间和最后一次修改时间，存储时间的字段用 DateTimeField 类型。\n",
    "    created_time = models.DateTimeField()\n",
    "    modified_time = models.DateTimeField()\n",
    "\n",
    "    # 文章摘要，可以没有文章摘要，但默认情况下 CharField 要求我们必须存入数据，否则就会报错。\n",
    "    # 指定 CharField 的 blank=True 参数值后就可以允许空值了。\n",
    "    excerpt = models.CharField(max_length=200, blank=True)\n",
    "\n",
    "    # 这是分类与标签，分类与标签的模型我们已经定义在上面。\n",
    "    # 我们在这里把文章对应的数据库表和分类、标签对应的数据库表关联了起来，但是关联形式稍微有点不同。\n",
    "    # 我们规定一篇文章只能对应一个分类，但是一个分类下可以有多篇文章，所以我们使用的是 ForeignKey，即一对多的关联关系。\n",
    "    # 而对于标签来说，一篇文章可以有多个标签，同一个标签下也可能有多篇文章，所以我们使用 ManyToManyField，表明这是多对多的关联关系。\n",
    "    # 同时我们规定文章可以没有标签，因此为标签 tags 指定了 blank=True。\n",
    "    # 如果你对 ForeignKey、ManyToManyField 不了解，请看教程中的解释，亦可参考官方文档：\n",
    "    # https://docs.djangoproject.com/en/1.10/topics/db/models/#relationships\n",
    "    category = models.ForeignKey(Category)\n",
    "    tags = models.ManyToManyField(Tag, blank=True)\n",
    "\n",
    "    # 文章作者，这里 User 是从 django.contrib.auth.models 导入的。\n",
    "    # django.contrib.auth 是 Django 内置的应用，专门用于处理网站用户的注册、登录等流程，User 是 Django 为我们已经写好的用户模型。\n",
    "    # 这里我们通过 ForeignKey 把文章和 User 关联了起来。\n",
    "    # 因为我们规定一篇文章只能有一个作者，而一个作者可能会写多篇文章，因此这是一对多的关联关系，和 Category 类似。\n",
    "    author = models.ForeignKey(User)"
   ]
  },
  {
   "cell_type": "markdown",
   "metadata": {},
   "source": [
    "# 理解多对一和多对多两种关联关系"
   ]
  },
  {
   "cell_type": "markdown",
   "metadata": {},
   "source": [
    "ForeignKey 和 ManyToManyField。"
   ]
  },
  {
   "cell_type": "markdown",
   "metadata": {},
   "source": [
    "## ForeignKey"
   ]
  },
  {
   "cell_type": "markdown",
   "metadata": {},
   "source": [
    "ForeignKey 表明一种一对多的关联关系。比如这里我们的文章和分类的关系，一篇文章只能对应一个分类，而一个分类下可以有多篇文章。反应到数据库表格中，它们的实际存储情况是这样的："
   ]
  },
  {
   "cell_type": "raw",
   "metadata": {},
   "source": [
    "文章 ID\t标题\t正文\t分类 ID\n",
    "1\ttitle 1\tbody 1\t1\n",
    "2\ttitle 2\tbody 2\t1\n",
    "3\ttitle 3\tbody 3\t1\n",
    "4\ttitle 4\tbody 4\t2\n",
    "分类 ID\t分类名\t\n",
    "1\tDjango\t\n",
    "2\tPython\t"
   ]
  },
  {
   "cell_type": "markdown",
   "metadata": {},
   "source": [
    "## ManyToManyField"
   ]
  },
  {
   "cell_type": "markdown",
   "metadata": {},
   "source": [
    "ManyToManyField 表明一种多对多的关联关系，比如这里的文章和标签，一篇文章可以有多个标签，而一个标签下也可以有多篇文章。反应到数据库表格中，它们的实际存储情况是这样的："
   ]
  },
  {
   "cell_type": "raw",
   "metadata": {},
   "source": [
    "文章 ID\t标题\t正文\n",
    "1\ttitle 1\tbody 1\n",
    "2\ttitle 2\tbody 2\n",
    "3\ttitle 3\tbody 3\n",
    "4\ttitle 4\tbody 4\n",
    "标签 ID\t标签名\n",
    "1\tDjango 学习\n",
    "2\tPython 学习\n",
    "文章 ID\t标签 ID\n",
    "1\t1\n",
    "1\t2\n",
    "2\t1\n",
    "3\t2"
   ]
  },
  {
   "cell_type": "markdown",
   "metadata": {},
   "source": [
    "# 让 Django 完成翻译：迁移数据库"
   ]
  },
  {
   "cell_type": "raw",
   "metadata": {},
   "source": [
    "python manage.py makemigrations\n",
    "python manage.py migrate"
   ]
  },
  {
   "cell_type": "markdown",
   "metadata": {},
   "source": [
    "当我们执行了 python manage.py makemigrations 后，Django 在 blog 应用的 migrations\\ 目录下生成了一个 0001_initial.py 文件，这个文件是 Django 用来记录我们对模型做了哪些修改的文件。\n",
    "\n",
    "执行了 python manage.py migrate 命令。Django 通过检测应用中 migrations\\ 目录下的文件，得知我们对数据库做了哪些操作，然后它把这些操作翻译成数据库操作语言，从而把这些操作作用于真正的数据库。"
   ]
  },
  {
   "cell_type": "markdown",
   "metadata": {},
   "source": [
    "运行下面的命令看看 Django 究竟为我们做了什么："
   ]
  },
  {
   "cell_type": "raw",
   "metadata": {},
   "source": [
    "python manage.py sqlmigrate blog 0001"
   ]
  },
  {
   "cell_type": "markdown",
   "metadata": {},
   "source": [
    "## python3 与 Django 连接数据库：\n",
    "Error loading MySQLdb module: No module named 'MySQLdb'"
   ]
  },
  {
   "cell_type": "markdown",
   "metadata": {},
   "source": [
    "**manage.py 中添加**"
   ]
  },
  {
   "cell_type": "code",
   "execution_count": null,
   "metadata": {},
   "outputs": [],
   "source": [
    "import pymysql\n",
    "pymysql.install_as_MySQLdb()"
   ]
  },
  {
   "cell_type": "markdown",
   "metadata": {},
   "source": [
    "# 用 Django 的方式操作数据库"
   ]
  },
  {
   "cell_type": "markdown",
   "metadata": {},
   "source": [
    "## 存数据"
   ]
  },
  {
   "cell_type": "raw",
   "metadata": {},
   "source": [
    "python manage.py shell"
   ]
  },
  {
   "cell_type": "code",
   "execution_count": null,
   "metadata": {},
   "outputs": [],
   "source": [
    ">>> from blog.models import Category, Tag, Post\n",
    ">>> c = Category(name='category test')\n",
    ">>> c.save()\n",
    ">>> t = Tag(name='tag test')\n",
    ">>> t.save()"
   ]
  },
  {
   "cell_type": "markdown",
   "metadata": {},
   "source": [
    "**创建 User **"
   ]
  },
  {
   "cell_type": "raw",
   "metadata": {},
   "source": [
    "python manage.py createsuperuser"
   ]
  },
  {
   "cell_type": "markdown",
   "metadata": {},
   "source": [
    "**创建文章**"
   ]
  },
  {
   "cell_type": "code",
   "execution_count": null,
   "metadata": {},
   "outputs": [],
   "source": [
    ">>> from blog.models import Category, Tag, Post\n",
    ">>> from django.utils import timezone\n",
    ">>> from django.contrib.auth.models import User\n",
    "\n",
    ">>> user = User.objects.get(username='myuser')\n",
    ">>> c = Category.objects.get(name='category test')\n",
    "\n",
    ">>> p = Post(title='title test', body='body test', created_time=timezone.now(), modified_time=timezone.now(), category=c, author=user)\n",
    ">>> p.save()"
   ]
  },
  {
   "cell_type": "markdown",
   "metadata": {},
   "source": [
    "我们这里使用 get 方法根据 Category 的 name 属性的值获取分类的一条记录。**Category.objects.get(name='category test')** 的含义是从数据库中取出 name 的值为 category test 的分类记录。确保数据库中只有一条值为 category test 的记录，否则 get 方法将返回一个 MultipleObjectsReturned 异常。"
   ]
  },
  {
   "cell_type": "markdown",
   "metadata": {},
   "source": [
    "# 取数据"
   ]
  },
  {
   "cell_type": "markdown",
   "metadata": {},
   "source": [
    "objects 是我们的模型管理器，它为我们提供一系列从数据库中取数据方法  \n",
    "**all** 方法，表示我们要把对应的数据全部取出来"
   ]
  },
  {
   "cell_type": "markdown",
   "metadata": {},
   "source": [
    "定义好\\__str__ 方法后，解释器显示的内容将会是\\__str__ 方法返回的内容"
   ]
  },
  {
   "cell_type": "markdown",
   "metadata": {},
   "source": [
    "# 改数据"
   ]
  },
  {
   "cell_type": "code",
   "execution_count": null,
   "metadata": {},
   "outputs": [],
   "source": [
    ">>> c = Category.objects.get(name='category test')\n",
    ">>> c.name = 'category test new'\n",
    ">>> c.save()\n",
    ">>> Category.objects.all()"
   ]
  },
  {
   "cell_type": "markdown",
   "metadata": {},
   "source": [
    "# 删数据"
   ]
  },
  {
   "cell_type": "code",
   "execution_count": null,
   "metadata": {},
   "outputs": [],
   "source": [
    ">>> p = Post.objects.get(title='title test')\n",
    ">>> p.delete()\n",
    ">>> Post.objects.all()"
   ]
  },
  {
   "cell_type": "code",
   "execution_count": null,
   "metadata": {},
   "outputs": [],
   "source": []
  }
 ],
 "metadata": {
  "kernelspec": {
   "display_name": "Python 3",
   "language": "python",
   "name": "python3"
  },
  "language_info": {
   "codemirror_mode": {
    "name": "ipython",
    "version": 3
   },
   "file_extension": ".py",
   "mimetype": "text/x-python",
   "name": "python",
   "nbconvert_exporter": "python",
   "pygments_lexer": "ipython3",
   "version": "3.6.5"
  }
 },
 "nbformat": 4,
 "nbformat_minor": 2
}
