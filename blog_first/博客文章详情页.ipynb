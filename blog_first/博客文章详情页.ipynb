{
 "cells": [
  {
   "cell_type": "markdown",
   "metadata": {},
   "source": [
    "# 设计文章详情页的 URL"
   ]
  },
  {
   "cell_type": "markdown",
   "metadata": {},
   "source": [
    "当用户访问 <网站域名>/post/1/ 时，显示的是第一篇文章的内容，而当用户访问 <网站域名>/post/2/ 时，显示的是第二篇文章的内容，这里数字代表了第几篇文章，也就是数据库中 Post 记录的 id 值。下面依照这个规则来绑定 URL 和视图："
   ]
  },
  {
   "cell_type": "code",
   "execution_count": null,
   "metadata": {},
   "outputs": [],
   "source": [
    "# blog/urls.py\n",
    "\n",
    "from django.conf.urls import url\n",
    "\n",
    "from . import views\n",
    "\n",
    "app_name = 'blog'\n",
    "urlpatterns = [\n",
    "    url(r'^$', views.index, name='index'),\n",
    "    url(r'^post/(?P<pk>[0-9]+)/$', views.detail, name='detail'),\n",
    "]"
   ]
  },
  {
   "cell_type": "markdown",
   "metadata": {},
   "source": [
    "(?P<pk>[0-9]+) 表示命名捕获组，其作用是从用户访问的 URL 里把括号内匹配的字符串捕获并作为关键字参数传给其对应的视图函数 detail。"
   ]
  },
  {
   "cell_type": "markdown",
   "metadata": {},
   "source": [
    "**app_name='blog'** 告诉 Django 这个 urls.py 模块是属于 blog 应用的，这种技术叫做**视图函数命名空间**。"
   ]
  },
  {
   "cell_type": "markdown",
   "metadata": {},
   "source": [
    "为了方便地生成上述的 URL，我们在 Post 类里定义一个 get_absolute_url 方法"
   ]
  },
  {
   "cell_type": "code",
   "execution_count": null,
   "metadata": {},
   "outputs": [],
   "source": [
    "# blog/models.py\n",
    "\n",
    "from django.db import models\n",
    "from django.contrib.auth.models import User\n",
    "from django.urls import reverse\n",
    "from django.utils.six import python_2_unicode_compatible\n",
    "\n",
    "@python_2_unicode_compatible\n",
    "class Post(models.Model):\n",
    "    ...\n",
    "\n",
    "    def __str__(self):\n",
    "        return self.title\n",
    "\n",
    "    # 自定义 get_absolute_url 方法\n",
    "    # 记得从 django.urls 中导入 reverse 函数\n",
    "    def get_absolute_url(self):\n",
    "        return reverse('blog:detail', kwargs={'pk': self.pk})"
   ]
  },
  {
   "cell_type": "markdown",
   "metadata": {},
   "source": [
    "注意到 URL 配置中的 url(r'^post/(?P<pk>[0-9]+)/$', views.detail, name='detail') ，我们设定的 name='detail' 在这里派上了用场。看到这个 reverse 函数，它的第一个参数的值是 'blog:detail'，意思是 blog 应用下的 name=detail 的函数，由于我们在上面通过 app_name = 'blog' 告诉了 Django 这个 URL 模块是属于 blog 应用的，因此 Django 能够顺利地找到 blog 应用下 name 为 detail 的视图函数，于是 reverse 函数会去解析这个视图函数对应的 URL，我们这里 detail 对应的规则就是 post/(?P<pk>[0-9]+)/ 这个正则表达式，而正则表达式部分会被后面传入的参数 pk 替换，所以，如果 Post 的 id（或者 pk，这里 pk 和 id 是等价的） 是 255 的话，那么 get_absolute_url 函数返回的就是 /post/255/ ，这样 Post 自己就生成了自己的 URL。"
   ]
  },
  {
   "cell_type": "markdown",
   "metadata": {},
   "source": [
    "# 编写 detail 视图函数"
   ]
  },
  {
   "cell_type": "code",
   "execution_count": null,
   "metadata": {},
   "outputs": [],
   "source": [
    "# blog/views.py\n",
    "\n",
    "from django.shortcuts import render, get_object_or_404\n",
    "from .models import Post\n",
    "\n",
    "def index(request):\n",
    "    # ...\n",
    "\n",
    "def detail(request, pk):\n",
    "    post = get_object_or_404(Post, pk=pk)\n",
    "    return render(request, 'blog/detail.html', context={'post': post})"
   ]
  },
  {
   "cell_type": "markdown",
   "metadata": {},
   "source": [
    "它根据我们从 URL 捕获的文章 id（也就是 pk，这里 pk 和 id 是等价的）获取数据库中文章 id 为该值的记录，然后传递给模板。"
   ]
  },
  {
   "cell_type": "markdown",
   "metadata": {},
   "source": [
    "# 编写详情页模板"
   ]
  },
  {
   "cell_type": "markdown",
   "metadata": {},
   "source": [
    "把 single.html 拷贝到 templates\\blog 目录下（和 index.html 在同一级目录），然后改名为 detail.html。"
   ]
  },
  {
   "cell_type": "markdown",
   "metadata": {},
   "source": [
    "在 index 页面博客文章列表的标题和继续阅读按钮写上超链接跳转的链接，即文章 post 对应的详情页的 URL，让用户点击后可以跳转到 detail 页面："
   ]
  },
  {
   "cell_type": "markdown",
   "metadata": {},
   "source": [
    "```HTML\n",
    "templates/blog/index.html\n",
    "\n",
    "<article class=\"post post-1\">\n",
    "  <header class=\"entry-header\">\n",
    "    <h1 class=\"entry-title\">\n",
    "      <a href=\"{{ post.get_absolute_url }}\">{{ post.title }}</a>\n",
    "    </h1>\n",
    "    ...\n",
    "  </header>\n",
    "  <div class=\"entry-content clearfix\">\n",
    "    ...\n",
    "    <div class=\"read-more cl-effect-14\">\n",
    "      <a href=\"{{ post.get_absolute_url }}\" class=\"more-link\">继续阅读 <span class=\"meta-nav\">→</span></a>\n",
    "    </div>\n",
    "  </div>\n",
    "</article>\n",
    "{% empty %}\n",
    "  <div class=\"no-post\">暂时还没有发布的文章！</div>\n",
    "{% endfor %}\n",
    "```"
   ]
  },
  {
   "cell_type": "markdown",
   "metadata": {},
   "source": [
    "# 模板继承"
   ]
  },
  {
   "cell_type": "markdown",
   "metadata": {},
   "source": [
    "我们看到 index.html 文件和 detail.html 文件除了 main 标签包裹的部分不同外，其它地方都是相同的，我们可以把相同的部分抽取出来，放到 base.html 里。"
   ]
  },
  {
   "cell_type": "markdown",
   "metadata": {},
   "source": [
    "```HTML\n",
    "templates/base.html\n",
    "\n",
    "...\n",
    "<main class=\"col-md-8\">\n",
    "    {% block main %}\n",
    "    {% endblock main %}\n",
    "</main>\n",
    "<aside class=\"col-md-4\">\n",
    "  {% block toc %}\n",
    "  {% endblock toc %}\n",
    "  ...\n",
    "</aside>\n",
    "...\n",
    "```"
   ]
  },
  {
   "cell_type": "markdown",
   "metadata": {},
   "source": [
    "这里 block 也是一个模板标签，其作用是占位。比如这里的 {% block main %}{% endblock main %} 是一个占位框，main 是我们给这个 block 取的名字。"
   ]
  },
  {
   "cell_type": "markdown",
   "metadata": {},
   "source": [
    "同时我们也在 aside 标签下加了一个 {% block toc %}{% endblock toc %} 占位框，因为 detail.html 中 aside 标签下会多一个目录栏。当 {% block toc %}{% endblock toc %} 中没有任何内容时，{% block toc %}{% endblock toc %} 在模板中不会显示。但当其中有内容是，模板就会显示 block 中的内容。"
   ]
  },
  {
   "cell_type": "markdown",
   "metadata": {},
   "source": [
    "在 index.html 里，我们在文件最顶部使用 {% extends 'base.html' %} 继承 base.html，这样就把 base.html 里的代码继承了过来，另外在 {% block main %}{% endblock main %} 包裹的地方填上 index 页面应该显示的内容："
   ]
  },
  {
   "cell_type": "markdown",
   "metadata": {},
   "source": [
    "```HTML\n",
    "templates/blog/index.html\n",
    "\n",
    "{% extends 'base.html' %}\n",
    "\n",
    "{% block main %}\n",
    "    {% for post in post_list %}\n",
    "        <article class=\"post post-1\">\n",
    "          ...\n",
    "        </article>\n",
    "    {% empty %}\n",
    "        <div class=\"no-post\">暂时还没有发布的文章！</div>\n",
    "    {% endfor %}\n",
    "    <!-- 简单分页效果\n",
    "    <div class=\"pagination-simple\">\n",
    "        <a href=\"#\">上一页</a>\n",
    "        <span class=\"current\">第 6 页 / 共 11 页</span>\n",
    "        <a href=\"#\">下一页</a>\n",
    "    </div>\n",
    "    -->\n",
    "    <div class=\"pagination\">\n",
    "      ...\n",
    "    </div>\n",
    "{% endblock main %}\n",
    "```"
   ]
  },
  {
   "cell_type": "markdown",
   "metadata": {},
   "source": [
    "这样 base.html 里的代码加上 {% block main %}{% endblock main %} 里的代码就和最开始 index.html 里的代码一样了。这就是模板继承的作用，公共部分的代码放在 base.html 里，而其它页面不同的部分通过替换 {% block main %}{% endblock main %} 占位标签里的内容即可。"
   ]
  },
  {
   "cell_type": "markdown",
   "metadata": {},
   "source": [
    "**detail 页面**"
   ]
  },
  {
   "cell_type": "markdown",
   "metadata": {},
   "source": [
    "```HTML\n",
    "templates/blog/detail.html\n",
    "\n",
    "{% extends 'base.html' %}\n",
    "\n",
    "{% block main %}\n",
    "    <article class=\"post post-1\">\n",
    "      ...\n",
    "    </article>\n",
    "    <section class=\"comment-area\">\n",
    "      ...\n",
    "    </section>\n",
    "{% endblock main %}\n",
    "{% block toc %}\n",
    "    <div class=\"widget widget-content\">\n",
    "        <h3 class=\"widget-title\">文章目录</h3>\n",
    "        <ul>\n",
    "            <li>\n",
    "                <a href=\"#\">教程特点</a>\n",
    "            </li>\n",
    "            <li>\n",
    "                <a href=\"#\">谁适合这个教程</a>\n",
    "            </li>\n",
    "            <li>\n",
    "                <a href=\"#\">在线预览</a>\n",
    "            </li>\n",
    "            <li>\n",
    "                <a href=\"#\">资源列表</a>\n",
    "            </li>\n",
    "            <li>\n",
    "                <a href=\"#\">获取帮助</a>\n",
    "            </li>\n",
    "        </ul>\n",
    "    </div>\n",
    "{% endblock toc %}\n",
    "```"
   ]
  },
  {
   "cell_type": "markdown",
   "metadata": {},
   "source": [
    "修改 article 标签下的一些内容，让其显示文章的实际数据："
   ]
  },
  {
   "cell_type": "markdown",
   "metadata": {},
   "source": [
    "```HTML\n",
    "<article class=\"post post-{{ post.pk }}\">\n",
    "  <header class=\"entry-header\">\n",
    "    <h1 class=\"entry-title\">{{ post.title }}</h1>\n",
    "    <div class=\"entry-meta\">\n",
    "      <span class=\"post-category\"><a href=\"#\">{{ post.category.name }}</a></span>\n",
    "      <span class=\"post-date\"><a href=\"#\"><time class=\"entry-date\" datetime=\"{{ post.created_time }}\">{{ post.created_time }}</time></a></span>\n",
    "      <span class=\"post-author\"><a href=\"#\">{{ post.author }}</a></span>\n",
    "      <span class=\"comments-link\"><a href=\"#\">4 评论</a></span>\n",
    "      <span class=\"views-count\"><a href=\"#\">588 阅读</a></span>\n",
    "    </div>\n",
    "  </header>\n",
    "  <div class=\"entry-content clearfix\">\n",
    "    {{ post.body }}\n",
    "  </div>\n",
    "</article>\n",
    "```"
   ]
  },
  {
   "cell_type": "code",
   "execution_count": null,
   "metadata": {},
   "outputs": [],
   "source": []
  }
 ],
 "metadata": {
  "kernelspec": {
   "display_name": "Python 3",
   "language": "python",
   "name": "python3"
  },
  "language_info": {
   "codemirror_mode": {
    "name": "ipython",
    "version": 3
   },
   "file_extension": ".py",
   "mimetype": "text/x-python",
   "name": "python",
   "nbconvert_exporter": "python",
   "pygments_lexer": "ipython3",
   "version": "3.6.5"
  }
 },
 "nbformat": 4,
 "nbformat_minor": 2
}
